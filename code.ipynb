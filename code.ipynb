{
 "cells": [
  {
   "cell_type": "markdown",
   "metadata": {},
   "source": [
    "# FIT5212: Data analysis for semi-structured data\n",
    "\n",
    "## Assignment 2\n",
    "\n",
    "**Student name:** Udit Arora\n",
    "\n",
    "**Student Id:** 31167799\n",
    "\n",
    "## Task 1: Recommender system\n",
    "\n",
    "This task recommends the top 10 items for a user from the given 100 items in the test data set, for all the users. The calculation is done through the interaction of an item and user from training and validation dataset. \n",
    "\n",
    "This is accomplished using Alternative Least Squares algorithm applying implicit feedback method. The calculation of AUC-ROC score is done by using Bayesian Personalised Ranking(BPR) by fine tuning the parameters used in the model. From this model we select the top 10 items for each user to recommend.\n",
    "\n",
    "### Load the data:"
   ]
  },
  {
   "cell_type": "code",
   "execution_count": 3,
   "metadata": {},
   "outputs": [
    {
     "data": {
      "text/html": [
       "<div>\n",
       "<style scoped>\n",
       "    .dataframe tbody tr th:only-of-type {\n",
       "        vertical-align: middle;\n",
       "    }\n",
       "\n",
       "    .dataframe tbody tr th {\n",
       "        vertical-align: top;\n",
       "    }\n",
       "\n",
       "    .dataframe thead th {\n",
       "        text-align: right;\n",
       "    }\n",
       "</style>\n",
       "<table border=\"1\" class=\"dataframe\">\n",
       "  <thead>\n",
       "    <tr style=\"text-align: right;\">\n",
       "      <th></th>\n",
       "      <th>user_id</th>\n",
       "      <th>item_id</th>\n",
       "      <th>rating</th>\n",
       "    </tr>\n",
       "  </thead>\n",
       "  <tbody>\n",
       "    <tr>\n",
       "      <th>1</th>\n",
       "      <td>0</td>\n",
       "      <td>1</td>\n",
       "      <td>1</td>\n",
       "    </tr>\n",
       "    <tr>\n",
       "      <th>2</th>\n",
       "      <td>0</td>\n",
       "      <td>2</td>\n",
       "      <td>1</td>\n",
       "    </tr>\n",
       "    <tr>\n",
       "      <th>3</th>\n",
       "      <td>0</td>\n",
       "      <td>3</td>\n",
       "      <td>1</td>\n",
       "    </tr>\n",
       "    <tr>\n",
       "      <th>4</th>\n",
       "      <td>0</td>\n",
       "      <td>4</td>\n",
       "      <td>1</td>\n",
       "    </tr>\n",
       "    <tr>\n",
       "      <th>5</th>\n",
       "      <td>0</td>\n",
       "      <td>5</td>\n",
       "      <td>1</td>\n",
       "    </tr>\n",
       "    <tr>\n",
       "      <th>6</th>\n",
       "      <td>0</td>\n",
       "      <td>6</td>\n",
       "      <td>1</td>\n",
       "    </tr>\n",
       "    <tr>\n",
       "      <th>7</th>\n",
       "      <td>0</td>\n",
       "      <td>7</td>\n",
       "      <td>1</td>\n",
       "    </tr>\n",
       "    <tr>\n",
       "      <th>8</th>\n",
       "      <td>0</td>\n",
       "      <td>8</td>\n",
       "      <td>1</td>\n",
       "    </tr>\n",
       "    <tr>\n",
       "      <th>9</th>\n",
       "      <td>0</td>\n",
       "      <td>9</td>\n",
       "      <td>1</td>\n",
       "    </tr>\n",
       "  </tbody>\n",
       "</table>\n",
       "</div>"
      ],
      "text/plain": [
       "   user_id  item_id  rating\n",
       "1        0        1       1\n",
       "2        0        2       1\n",
       "3        0        3       1\n",
       "4        0        4       1\n",
       "5        0        5       1\n",
       "6        0        6       1\n",
       "7        0        7       1\n",
       "8        0        8       1\n",
       "9        0        9       1"
      ]
     },
     "execution_count": 3,
     "metadata": {},
     "output_type": "execute_result"
    }
   ],
   "source": [
    "import pandas as pd\n",
    "import numpy as np  \n",
    "\n",
    "# Read the files\n",
    "train_data = pd.read_csv(\"flickr_train_data.csv\")\n",
    "validation_data = pd.read_csv(\"flickr_validation_data.csv\")\n",
    "test_data = pd.read_csv(\"flickr_test_data.csv\")\n",
    "\n",
    "# combine together the training and validation data sets\n",
    "train_validation_data = train_data.append(validation_data)\n",
    "\n",
    "train_validation_data[1:10]"
   ]
  },
  {
   "cell_type": "markdown",
   "metadata": {},
   "source": [
    "### Building the model:\n",
    "\n",
    "* Starting by creating a sparse matrix, a matrix which consists of either 0 or 1 with 'user' as rows and 'item' as columns. Two matrices are created one for model and other for the recommendation system. "
   ]
  },
  {
   "cell_type": "code",
   "execution_count": 4,
   "metadata": {},
   "outputs": [],
   "source": [
    "import scipy.sparse as sparse  \n",
    "\n",
    "#Sparse matrix for recommendation system\n",
    "recommendation_sys_matrix = sparse.csr_matrix((train_validation_data['rating'].astype(float), (train_validation_data['user_id'], train_validation_data['item_id'])))\n",
    "\n",
    "#Sparse matrix for model\n",
    "model_matrix = sparse.csr_matrix((train_validation_data['rating'].astype(float), (train_validation_data['item_id'], train_validation_data['user_id'])))"
   ]
  },
  {
   "cell_type": "markdown",
   "metadata": {},
   "source": [
    "* Following models under the implicit methods are taken into consideration \n",
    "\n",
    "|     | Model                      |\n",
    "| ----| ------------------------------ |\n",
    "| ALS |   Alternating Least Squares  |\n",
    "| LMF |   Logistic Matrix Factorization |\n",
    "\n",
    "Both the types of models are built with default parameters and their output files are uploaded to Kaggle and it is found that the NDCG score of LMF recommendations is very low.\n",
    "\n",
    "So the **ALS** algorithm is finally choosen to build the recommender system.\n",
    "\n",
    "* To find the best performing ALS model parameters, different sets of parameters are tried and tested to find the best performing model parameters. Only the code for the best performing model is included as multiple models implementation takes a lot of time. \n",
    "\n",
    "* Parameters that are finalised for the ALS model are as follow:\n",
    "\n",
    "|   Parameter  |          Description             |\n",
    "| ----| ------------------------------ |\n",
    "| Alpha = 30 |   rate of confidence |\n",
    "| Factors = 5 |   Latent factors for user and item vectors  |\n",
    "| Iterations = 30 |   iterations used to fit the data |\n",
    "| regularization = 0.15 |   constant used in cost function |\n",
    "\n",
    "\n",
    "**Note:** The code for all the models except for the final best performing one is removed from the code block as it takes a lot of time to run the code."
   ]
  },
  {
   "cell_type": "code",
   "execution_count": 5,
   "metadata": {},
   "outputs": [
    {
     "name": "stderr",
     "output_type": "stream",
     "text": [
      "100%|██████████| 30/30 [00:01<00:00, 22.81it/s]\n"
     ]
    }
   ],
   "source": [
    "import implicit\n",
    "\n",
    "np.random.seed(0)\n",
    "\n",
    "alpha = 40 #The rate in which we'll increase our confidence in a preference with more interactions.\n",
    "data = (model_matrix * alpha).astype('double')\n",
    "\n",
    "#Build the model\n",
    "model1 = implicit.als.AlternatingLeastSquares(factors=5, regularization=0.15, iterations=30)\n",
    "\n",
    "#Fitting the model using the input data\n",
    "model1.fit(data)"
   ]
  },
  {
   "cell_type": "code",
   "execution_count": 24,
   "metadata": {},
   "outputs": [
    {
     "data": {
      "text/html": [
       "<div>\n",
       "<style scoped>\n",
       "    .dataframe tbody tr th:only-of-type {\n",
       "        vertical-align: middle;\n",
       "    }\n",
       "\n",
       "    .dataframe tbody tr th {\n",
       "        vertical-align: top;\n",
       "    }\n",
       "\n",
       "    .dataframe thead th {\n",
       "        text-align: right;\n",
       "    }\n",
       "</style>\n",
       "<table border=\"1\" class=\"dataframe\">\n",
       "  <thead>\n",
       "    <tr style=\"text-align: right;\">\n",
       "      <th></th>\n",
       "      <th>item_id</th>\n",
       "      <th>user_id</th>\n",
       "      <th>weight</th>\n",
       "    </tr>\n",
       "  </thead>\n",
       "  <tbody>\n",
       "    <tr>\n",
       "      <th>0</th>\n",
       "      <td>8552.0</td>\n",
       "      <td>0.0</td>\n",
       "      <td>9.477407</td>\n",
       "    </tr>\n",
       "    <tr>\n",
       "      <th>1</th>\n",
       "      <td>3177.0</td>\n",
       "      <td>0.0</td>\n",
       "      <td>9.032385</td>\n",
       "    </tr>\n",
       "    <tr>\n",
       "      <th>2</th>\n",
       "      <td>740.0</td>\n",
       "      <td>0.0</td>\n",
       "      <td>7.520896</td>\n",
       "    </tr>\n",
       "    <tr>\n",
       "      <th>3</th>\n",
       "      <td>349.0</td>\n",
       "      <td>0.0</td>\n",
       "      <td>7.063329</td>\n",
       "    </tr>\n",
       "    <tr>\n",
       "      <th>4</th>\n",
       "      <td>6343.0</td>\n",
       "      <td>0.0</td>\n",
       "      <td>6.883848</td>\n",
       "    </tr>\n",
       "    <tr>\n",
       "      <th>...</th>\n",
       "      <td>...</td>\n",
       "      <td>...</td>\n",
       "      <td>...</td>\n",
       "    </tr>\n",
       "    <tr>\n",
       "      <th>51985</th>\n",
       "      <td>1873.0</td>\n",
       "      <td>3465.0</td>\n",
       "      <td>5.703547</td>\n",
       "    </tr>\n",
       "    <tr>\n",
       "      <th>51986</th>\n",
       "      <td>520.0</td>\n",
       "      <td>3465.0</td>\n",
       "      <td>5.692022</td>\n",
       "    </tr>\n",
       "    <tr>\n",
       "      <th>51987</th>\n",
       "      <td>1127.0</td>\n",
       "      <td>3465.0</td>\n",
       "      <td>5.576039</td>\n",
       "    </tr>\n",
       "    <tr>\n",
       "      <th>51988</th>\n",
       "      <td>6282.0</td>\n",
       "      <td>3465.0</td>\n",
       "      <td>5.532290</td>\n",
       "    </tr>\n",
       "    <tr>\n",
       "      <th>51989</th>\n",
       "      <td>56.0</td>\n",
       "      <td>3465.0</td>\n",
       "      <td>5.504817</td>\n",
       "    </tr>\n",
       "  </tbody>\n",
       "</table>\n",
       "<p>51990 rows × 3 columns</p>\n",
       "</div>"
      ],
      "text/plain": [
       "       item_id  user_id    weight\n",
       "0       8552.0      0.0  9.477407\n",
       "1       3177.0      0.0  9.032385\n",
       "2        740.0      0.0  7.520896\n",
       "3        349.0      0.0  7.063329\n",
       "4       6343.0      0.0  6.883848\n",
       "...        ...      ...       ...\n",
       "51985   1873.0   3465.0  5.703547\n",
       "51986    520.0   3465.0  5.692022\n",
       "51987   1127.0   3465.0  5.576039\n",
       "51988   6282.0   3465.0  5.532290\n",
       "51989     56.0   3465.0  5.504817\n",
       "\n",
       "[51990 rows x 3 columns]"
      ]
     },
     "execution_count": 24,
     "metadata": {},
     "output_type": "execute_result"
    }
   ],
   "source": [
    "# track recommended item and their weight values\n",
    "recc_item_weight = pd.DataFrame()\n",
    "\n",
    "#number of users\n",
    "user_count = train_validation_data['user_id'].nunique()\n",
    "\n",
    "#number of items\n",
    "item_count = train_validation_data['item_id'].nunique()\n",
    "\n",
    "# for all the users\n",
    "for i in range (0,user_count):\n",
    "    \n",
    "    #Track number of recommendations(15)\n",
    "    recommendations_count = 0\n",
    "    \n",
    "    #Get recommendations from the model for the user\n",
    "    usr_recomm = model1.recommend(i,recommendation_sys_matrix,item_count)\n",
    "    \n",
    "    # get test data for the user\n",
    "    test_data_items = test_data[test_data['user_id']==i]               \n",
    "    \n",
    "    # For all recommendations returned by the model for the user\n",
    "    for rcm in usr_recomm:                                  \n",
    "        \n",
    "        # recommended item\n",
    "        item_no = rcm[0]\n",
    "        # weight of the recommended item\n",
    "        item_weight = rcm[1]\n",
    "        \n",
    "        # the recommended item is used only if the item is in test data\n",
    "        if not(test_data_items[test_data_items['item_id'] == item_no].empty):\n",
    "            \n",
    "            #increment the recommendation count\n",
    "            recommendations_count = recommendations_count + 1\n",
    "            \n",
    "            #record the recommended item and weight\n",
    "            recc_item_weight = recc_item_weight.append({'user_id': i, 'item_id': item_no, 'weight': item_weight}, ignore_index=True)\n",
    "            \n",
    "            if(recommendations_count == 15):\n",
    "                break;      \n",
    "\n",
    "recc_item_weight"
   ]
  },
  {
   "cell_type": "code",
   "execution_count": 25,
   "metadata": {},
   "outputs": [],
   "source": [
    "# change the format for output\n",
    "output_df = recc_item_weight[['user_id','item_id']]\n",
    "\n",
    "#to csv file\n",
    "output_df = output_df.astype('int64')\n",
    "output_df.to_csv('31167799_3.csv',index=False)"
   ]
  },
  {
   "cell_type": "markdown",
   "metadata": {},
   "source": [
    "## Task 2: Node clustering in graphs\n",
    "\n"
   ]
  },
  {
   "cell_type": "markdown",
   "metadata": {},
   "source": [
    "The goal of this task is to cluster the nodes in the network into several categories, and evaluate the performance of different clustering algorithms.\n",
    "\n",
    "### Load the data:\n",
    "\n",
    "There are three input files:\n",
    "\n",
    "|   File  |          Description             |\n",
    "| ----| ------------------------------ |\n",
    "| docs.txt |   nodes and their titles |\n",
    "| adjedges.txt |   First node is the root and successive nodes are its branches   |\n",
    "| labels.txt  |   node id and its class labels |"
   ]
  },
  {
   "cell_type": "code",
   "execution_count": 6,
   "metadata": {},
   "outputs": [],
   "source": [
    "#Read the data and store them in dataframes\n",
    "\n",
    "#read the nodes and their titles data\n",
    "docs_node_title = pd.DataFrame()\n",
    "\n",
    "file = open (\"docs.txt\", encoding = \"utf8\")\n",
    "\n",
    "#for each line of the document\n",
    "for line in file.readlines():\n",
    "    title = ''\n",
    "    #split a line\n",
    "    words = line.split(\" \")  \n",
    "    #title for each node\n",
    "    for i in range (1,(len(words))):\n",
    "        title = title + str(words[i]).rstrip('\\n') + \" \"\n",
    "    #node id\n",
    "    id_node = line.split(\" \")[0]\n",
    "    #writing to the dataframe\n",
    "    docs_node_title = docs_node_title.append({'node_id': id_node, 'node_title': title},ignore_index=True)\n",
    "\n",
    "#close the file\n",
    "file.closed\n",
    "\n",
    "#read the classification label data\n",
    "node_labels = pd.DataFrame()\n",
    "\n",
    "file = open (\"labels.txt\", encoding = \"utf8\")\n",
    "\n",
    "#for each line of the document\n",
    "for line in file.readlines():\n",
    "    #node id\n",
    "    id_node = line.split(\" \")[0]\n",
    "    group_node = line.split(\" \")[1].rstrip('\\n')\n",
    "    #writing to the dataframe\n",
    "    node_labels = node_labels.append({'node_id': id_node, 'group': group_node},ignore_index=True)\n",
    "\n",
    "#close the file\n",
    "file.closed\n",
    "\n",
    "# read the node and it's branches data (graph data)\n",
    "#create network graph\n",
    "import networkx as nx\n",
    "ntwk_graph = nx.read_adjlist(\"adjedges.txt\")"
   ]
  },
  {
   "cell_type": "markdown",
   "metadata": {},
   "source": [
    "### Graph Embedding\n",
    "\n",
    "This task classifies the node based on node or text embedding. In node embedding the classification is based on Node2Vec algorithm from the constructed graph, for the text embedding the classification is done using Word2vec and TfIdf algorithms. \n",
    "\n",
    "* **Node Embedding:**"
   ]
  },
  {
   "cell_type": "code",
   "execution_count": 17,
   "metadata": {
    "scrolled": false
   },
   "outputs": [
    {
     "data": {
      "application/vnd.jupyter.widget-view+json": {
       "model_id": "d087c8f76d314190b37c103d3219f1f7",
       "version_major": 2,
       "version_minor": 0
      },
      "text/plain": [
       "HBox(children=(FloatProgress(value=0.0, description='Computing transition probabilities', max=36928.0, style=P…"
      ]
     },
     "metadata": {},
     "output_type": "display_data"
    },
    {
     "name": "stderr",
     "output_type": "stream",
     "text": [
      "\r",
      "Generating walks (CPU: 1):   0%|          | 0/10 [00:00<?, ?it/s]"
     ]
    },
    {
     "name": "stdout",
     "output_type": "stream",
     "text": [
      "\n"
     ]
    },
    {
     "name": "stderr",
     "output_type": "stream",
     "text": [
      "Generating walks (CPU: 1): 100%|██████████| 10/10 [02:51<00:00, 17.19s/it]\n"
     ]
    }
   ],
   "source": [
    "#Node2Vec algorithm\n",
    "from node2vec import Node2Vec\n",
    "node_vec = Node2Vec(ntwk_graph, dimensions = 36, walk_length = 10, num_walks = 10)\n",
    "#embedding the nodes\n",
    "model = node_vec.fit(window = 10, min_count = 1, batch_words = 4)\n",
    "\n",
    "#vectorize the 'node_id'\n",
    "node_id_vectorize = model.wv[node_labels['node_id']].tolist()\n",
    "#vectorize the 'group'\n",
    "group_vectorize = node_labels['group'].tolist()\n"
   ]
  },
  {
   "cell_type": "markdown",
   "metadata": {},
   "source": [
    "* **Text Embedding:**"
   ]
  },
  {
   "cell_type": "code",
   "execution_count": 28,
   "metadata": {},
   "outputs": [
    {
     "data": {
      "text/plain": [
       "(36724, 100)"
      ]
     },
     "execution_count": 28,
     "metadata": {},
     "output_type": "execute_result"
    }
   ],
   "source": [
    "import gensim\n",
    "from gensim import models\n",
    "from gensim.models import Word2Vec\n",
    "#word2vec algorithm\n",
    "\n",
    "#structure the data\n",
    "str_text = [nt.strip().split(' ') for nt in docs_node_title['node_title']]\n",
    "\n",
    "#word2vec model\n",
    "word2vec_model = gensim.models.Word2Vec(str_text, min_count = 1 ,workers = 3, window = 3, sg = 1)\n",
    "#shape of the vector\n",
    "word2vec_model.wv.vectors.shape"
   ]
  },
  {
   "cell_type": "markdown",
   "metadata": {},
   "source": [
    "The vector generated by Word2Vec model is generated from all the topics so the distinguish factor is not efficient enough so this method is not used."
   ]
  },
  {
   "cell_type": "code",
   "execution_count": 31,
   "metadata": {},
   "outputs": [
    {
     "name": "stderr",
     "output_type": "stream",
     "text": [
      "/Users/uditarora/opt/anaconda3/lib/python3.8/site-packages/sklearn/feature_extraction/text.py:383: UserWarning: Your stop_words may be inconsistent with your preprocessing. Tokenizing the stop words generated tokens ['doe', 'ha', 'wa'] not in stop_words.\n",
      "  warnings.warn('Your stop_words may be inconsistent with '\n"
     ]
    }
   ],
   "source": [
    "#tfidf algorithm\n",
    "from sklearn.feature_extraction.text import TfidfVectorizer\n",
    "from nltk.corpus import stopwords\n",
    "from nltk import word_tokenize    \n",
    "from nltk.tokenize import RegexpTokenizer\n",
    "from nltk.stem import WordNetLemmatizer\n",
    "\n",
    "# list of title\n",
    "list_title = docs_node_title['node_title'].tolist()\n",
    "\n",
    "# list of group\n",
    "list_group = node_labels['group'].tolist()\n",
    "\n",
    "#Tokenize topics\n",
    "class LemmaTokenizer(object):\n",
    "    def __init__(self):\n",
    "        self.wnl=WordNetLemmatizer()\n",
    "    def __call__(self,doc):\n",
    "        return [self.wnl.lemmatize(t) for t in RegexpTokenizer('[a-zA-Z]+').tokenize(doc)]\n",
    "    \n",
    "#vectorizer to remove english stopwords from title\n",
    "vctrizr = TfidfVectorizer(tokenizer = LemmaTokenizer(),\n",
    "                         stop_words=stopwords.words('english'),\n",
    "                         lowercase=True, min_df=5, max_df=0.8,\n",
    "                         analyzer='word',input='content')\n",
    "\n",
    "#x label for train data\n",
    "train_x = vctrizr.fit_transform(list_title)\n",
    "\n",
    "#y label for train data\n",
    "train_y = np.asarray(list_group)"
   ]
  },
  {
   "cell_type": "markdown",
   "metadata": {},
   "source": [
    "### Models based on node embedding\n",
    "\n",
    "For node embedding let's build the following models using 10-fold cross validation and find the best performing model for node embedding.\n",
    "\n",
    "|          Models             |\n",
    "| ------------------------------ |\n",
    "|   RandomForestClassifier |\n",
    "|   LogisticRegression | \n",
    "| LinearSVC |"
   ]
  },
  {
   "cell_type": "code",
   "execution_count": 40,
   "metadata": {},
   "outputs": [
    {
     "data": {
      "image/png": "[encoded data removed]",
      "text/plain": [
       "<Figure size 432x288 with 1 Axes>"
      ]
     },
     "metadata": {
      "needs_background": "light"
     },
     "output_type": "display_data"
    }
   ],
   "source": [
    "from sklearn.linear_model import LogisticRegression\n",
    "from sklearn.svm import LinearSVC, SVC\n",
    "from sklearn.ensemble import RandomForestClassifier\n",
    "import warnings\n",
    "warnings.filterwarnings(\"ignore\")\n",
    "#List out all the models\n",
    "list_models = [\n",
    "    RandomForestClassifier(),\n",
    "    LogisticRegression(),\n",
    "    LinearSVC()    \n",
    "]\n",
    "\n",
    "#Number of folds\n",
    "folds = 10\n",
    "\n",
    "#store accuracy of each fold for corresponding fold\n",
    "model_fold_acc = []\n",
    "\n",
    "#cross validation dataframe\n",
    "df_crossvalid = pd.DataFrame(index=range(folds * len(list_models)))\n",
    "\n",
    "#for each model\n",
    "for model in list_models:\n",
    "     #name of the model\n",
    "     modelname = model.__class__.__name__\n",
    "     #accuracy of the model\n",
    "     accuracy = cross_val_score(model, node_id_vectorize, group_vectorize, scoring = 'accuracy', cv = folds)\n",
    "     #for each fold, accuracy pair, add to the list\n",
    "     for fld_id, acc in enumerate(accuracy):\n",
    "          model_fold_acc.append((modelname, fld_id, acc))\n",
    "\n",
    "#add data to the dataframe for model, fold and accuracy\n",
    "df_crossvalid = pd.DataFrame(model_fold_acc, columns=['model_name', 'fold_idx', 'accuracy'])\n",
    "\n",
    "#plot the data\n",
    "sns.boxplot(x='model_name', y='accuracy', data=df_crossvalid).set_title('Node Embedding')\n",
    "sns.stripplot(x='model_name', y='accuracy', data=df_crossvalid, \n",
    "              size=3, jitter=True, linewidth=2)\n",
    "plt.show()"
   ]
  },
  {
   "cell_type": "markdown",
   "metadata": {},
   "source": [
    "**Conclusion:** According to the above plot, we can see that RandomForestClassifier has the best accuracy, so for node embedding we use this model.\n",
    "\n",
    "### Models based on text embedding\n",
    "\n",
    "For text embedding we build the same models as above and find the best performing model on the basis of 10 fold cross validation.\n",
    "\n",
    "|          Models             |\n",
    "| ------------------------------ |\n",
    "|   RandomForestClassifier |\n",
    "|   LogisticRegression | \n",
    "| LinearSVC |"
   ]
  },
  {
   "cell_type": "code",
   "execution_count": 41,
   "metadata": {},
   "outputs": [
    {
     "data": {
      "image/png": "[encoded data removed]",
      "text/plain": [
       "<Figure size 432x288 with 1 Axes>"
      ]
     },
     "metadata": {
      "needs_background": "light"
     },
     "output_type": "display_data"
    }
   ],
   "source": [
    "#List out all the models\n",
    "list_models = [\n",
    "    RandomForestClassifier(),\n",
    "    LogisticRegression(),\n",
    "    LinearSVC()    \n",
    "]\n",
    "\n",
    "#Number of folds\n",
    "folds = 10\n",
    "\n",
    "#store accuracy of each fold for corresponding fold\n",
    "model_fold_acc = []\n",
    "\n",
    "#cross validation dataframe\n",
    "df_crossvalid = pd.DataFrame(index=range(folds * len(list_models)))\n",
    "\n",
    "#for each model\n",
    "for model in list_models:\n",
    "     #name of the model\n",
    "     modelname = model.__class__.__name__\n",
    "     #accuracy of the model\n",
    "     accuracy = cross_val_score(model, train_x, train_y, scoring = 'accuracy', cv = folds)\n",
    "     #for each fold, accuracy pair, add to the list\n",
    "     for fld_id, acc in enumerate(accuracy):\n",
    "          model_fold_acc.append((modelname, fld_id, acc))\n",
    "\n",
    "#add data to the dataframe for model, fold and accuracy\n",
    "df_crossvalid = pd.DataFrame(model_fold_acc, columns=['model_name', 'fold_idx', 'accuracy'])\n",
    "\n",
    "#plot the data\n",
    "sns.boxplot(x='model_name', y='accuracy', data=df_crossvalid).set_title('Text Embedding')\n",
    "sns.stripplot(x='model_name', y='accuracy', data=df_crossvalid, \n",
    "              size=3, jitter=True, linewidth=2)\n",
    "plt.show()            "
   ]
  },
  {
   "cell_type": "markdown",
   "metadata": {},
   "source": [
    "**Conclusion:** According to the above plot, we can see that the LogisticRegression has the best accuracy, so for text embedding we use this model.\n",
    "\n",
    "### Finalizing the model\n",
    "\n",
    "* Create train and test datasets"
   ]
  },
  {
   "cell_type": "code",
   "execution_count": 42,
   "metadata": {},
   "outputs": [],
   "source": [
    "from sklearn.model_selection import train_test_split\n",
    "\n",
    "#create train and test datasets\n",
    "#for node embedding\n",
    "node_x_train, node_x_test, node_y_train, node_y_test = train_test_split(node_id_vectorize, group_vectorize, test_size = 0.3, random_state = 0)\n",
    "#splitting test and train for text embedding \n",
    "text_x_train, text_x_test, text_y_train, text_y_test = train_test_split(train_x, train_y, test_size = 0.3, random_state = 0)"
   ]
  },
  {
   "cell_type": "markdown",
   "metadata": {},
   "source": [
    "* RandomForestClassifier for node embedding"
   ]
  },
  {
   "cell_type": "code",
   "execution_count": 43,
   "metadata": {},
   "outputs": [],
   "source": [
    "#Create classifier\n",
    "rndm_frst_clsfr = RandomForestClassifier()\n",
    "#get model name\n",
    "modelname_rf = rndm_frst_clsfr.__class__.__name__\n",
    "#fit train data to classifier\n",
    "rndm_frst_clsfr.fit(node_x_train, node_y_train)\n",
    "\n",
    "#predict test data\n",
    "node_y_predict = rndm_frst_clsfr.predict(node_x_test)"
   ]
  },
  {
   "cell_type": "markdown",
   "metadata": {},
   "source": [
    "* LogisticRegression for text embedding"
   ]
  },
  {
   "cell_type": "code",
   "execution_count": 46,
   "metadata": {},
   "outputs": [],
   "source": [
    "#Create the classifier\n",
    "lr = LogisticRegression()\n",
    "#get model name\n",
    "modelname_lr = lr.__class__.__name__\n",
    "#fit train data to classifier\n",
    "lr.fit(text_x_train, text_y_train)\n",
    "\n",
    "#predict test data\n",
    "text_y_predict = lr.predict(text_x_test)"
   ]
  },
  {
   "cell_type": "markdown",
   "metadata": {},
   "source": [
    "* Calculate the NMI(normalized mutual information) scores:"
   ]
  },
  {
   "cell_type": "code",
   "execution_count": 47,
   "metadata": {},
   "outputs": [
    {
     "name": "stdout",
     "output_type": "stream",
     "text": [
      "RandomForestClassifier\n",
      "0.46570702871978714\n",
      "LogisticRegression\n",
      "0.5240933560107274\n"
     ]
    }
   ],
   "source": [
    "from sklearn.metrics.cluster import normalized_mutual_info_score\n",
    "#calculate nmi scores for node embedding\n",
    "print(modelname_rf)\n",
    "print(normalized_mutual_info_score(node_y_test, node_y_predict))\n",
    "\n",
    "#calculate nmi scores for text embedding\n",
    "print(modelname_lr)\n",
    "print(normalized_mutual_info_score(text_y_test, text_y_predict))"
   ]
  },
  {
   "cell_type": "markdown",
   "metadata": {},
   "source": [
    "Based on the above results we have, \n",
    "\n",
    "|   Model  |          NMI Score             |\n",
    "| ----| ------------------------------ |\n",
    "| Node Embedding, RandomForestClassifier | 0.46570702871978714 |\n",
    "| Text Embedding, LogisticRegression | 0.5240933560107274 |\n",
    "\n",
    "Above comparison shows that Text embedding model Logistic Regression has a better NMI score so we can say that this model performs better than the Node embedding model."
   ]
  },
  {
   "cell_type": "markdown",
   "metadata": {},
   "source": [
    "## References\n",
    "\n",
    "* Monash Lecture Notes and Tutorials\n",
    "* ALS model, https://implicit.readthedocs.io/en/latest/als.html\n",
    "* LMF model, https://implicit.readthedocs.io/en/latest/lmf.html\n",
    "* Graphs, https://networkx.github.io/documentation/networkx-1.10/tutorial/tutorial.html\n",
    "* NMI score, https://scikit-learn.org/stable/modules/generated/sklearn.metrics.normalized_mutual_info_score.html\n",
    "* Train test split, https://scikit-learn.org/stable/modules/generated/sklearn.model_selection.train_test_split.html\n"
   ]
  }
 ],
 "metadata": {
  "kernelspec": {
   "display_name": "Python 3",
   "language": "python",
   "name": "python3"
  },
  "language_info": {
   "codemirror_mode": {
    "name": "ipython",
    "version": 3
   },
   "file_extension": ".py",
   "mimetype": "text/x-python",
   "name": "python",
   "nbconvert_exporter": "python",
   "pygments_lexer": "ipython3",
   "version": "3.8.3"
  }
 },
 "nbformat": 4,
 "nbformat_minor": 5
}
